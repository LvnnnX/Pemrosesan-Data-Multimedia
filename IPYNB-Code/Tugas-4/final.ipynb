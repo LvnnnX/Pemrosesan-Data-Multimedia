{
  "cells": [
    {
      "cell_type": "code",
      "execution_count": 1,
      "metadata": {
        "id": "BX47WTsjB2KK"
      },
      "outputs": [],
      "source": [
        "import cv2\n",
        "import numpy as np\n",
        "import pandas as pd\n",
        "from skimage.feature import graycomatrix, graycoprops\n",
        "from sklearn.model_selection import train_test_split\n",
        "import tensorflow as tf\n",
        "from keras.models import Sequential\n",
        "from keras.layers import Dense"
      ]
    },
    {
      "cell_type": "code",
      "execution_count": 2,
      "metadata": {},
      "outputs": [],
      "source": [
        "from pathlib import Path\n",
        "PATH = Path().parent\n",
        "DDIR = PATH / 'datasets'\n",
        "TEST = PATH / 'tests'"
      ]
    },
    {
      "cell_type": "code",
      "execution_count": null,
      "metadata": {},
      "outputs": [],
      "source": []
    },
    {
      "cell_type": "code",
      "execution_count": 3,
      "metadata": {
        "colab": {
          "base_uri": "https://localhost:8080/"
        },
        "id": "dCXPnIYZLSe2",
        "outputId": "827de298-afc4-402f-87f7-ca0561630e2f"
      },
      "outputs": [
        {
          "name": "stderr",
          "output_type": "stream",
          "text": [
            "100%|██████████| 1463/1463 [00:00<00:00, 3352.11it/s]\n",
            "100%|██████████| 1537/1537 [00:00<00:00, 3813.07it/s]\n"
          ]
        }
      ],
      "source": [
        "# from google.colab import drive\n",
        "# drive.mount('/content/drive')\n",
        "\n",
        "import os\n",
        "from tqdm import tqdm\n",
        "# img_dir = \"/content/drive/MyDrive/Colab Notebooks/Final\"\n",
        "img_dir = DDIR\n",
        "subfolders = [\"happy\", \"sad\"]\n",
        "images = []\n",
        "labels = []\n",
        "\n",
        "\n",
        "\n",
        "counter = 0\n",
        "subfolder_path = os.path.join(img_dir, \"sad\")\n",
        "for file_name in tqdm(os.listdir(subfolder_path)):\n",
        "    # if counter == 500:\n",
        "    #   break\n",
        "    file_path = os.path.join(subfolder_path, file_name)\n",
        "    image = cv2.imread(file_path, cv2.IMREAD_GRAYSCALE)\n",
        "    images.append(image)\n",
        "    label = \"sad\"\n",
        "    labels.append(label)\n",
        "    # counter += 1\n",
        "\n",
        "counter = 0\n",
        "subfolder_path = os.path.join(img_dir, \"happy\")\n",
        "for file_name in tqdm(os.listdir(subfolder_path)):\n",
        "    # if counter == 500:\n",
        "    #   break\n",
        "    file_path = os.path.join(subfolder_path, file_name)\n",
        "    image = cv2.imread(file_path, cv2.IMREAD_GRAYSCALE)\n",
        "    images.append(image)\n",
        "    label = \"happy\"\n",
        "    labels.append(label)\n",
        "    # counter += 1"
      ]
    },
    {
      "cell_type": "code",
      "execution_count": 4,
      "metadata": {
        "id": "TBiaXbxnHEln"
      },
      "outputs": [],
      "source": [
        "# data terkutuk\n",
        "# for i in range(60,71):\n",
        "#   images.pop(i)\n",
        "#   labels.pop(i)"
      ]
    },
    {
      "cell_type": "code",
      "execution_count": 5,
      "metadata": {
        "id": "mOiCz2r9J-HL"
      },
      "outputs": [],
      "source": [
        "def glcm_feature(image, props, dists=[1], agls=[0, np.pi/4, np.pi/2, 3*np.pi/4, np.pi], lvl=256, sym=True, norm=True):\n",
        "    glcm = graycomatrix(image, distances=dists, angles=agls, levels=lvl,symmetric=sym, normed=norm)\n",
        "    feature = []\n",
        "    glcm_props = []\n",
        "    for prop in props:\n",
        "          for x in graycoprops(glcm, prop)[0]:\n",
        "                glcm_props.append(x)\n",
        "    for item in glcm_props:\n",
        "            feature.append(item)\n",
        "\n",
        "    return feature"
      ]
    },
    {
      "cell_type": "code",
      "execution_count": 6,
      "metadata": {
        "colab": {
          "base_uri": "https://localhost:8080/"
        },
        "id": "mb-qxVNXKObf",
        "outputId": "e394dca3-0de4-4d81-c3cb-46680a8f4a4a"
      },
      "outputs": [
        {
          "name": "stderr",
          "output_type": "stream",
          "text": [
            " 32%|███▏      | 972/3000 [00:37<01:13, 27.41it/s]"
          ]
        },
        {
          "name": "stdout",
          "output_type": "stream",
          "text": [
            "966\n"
          ]
        },
        {
          "name": "stderr",
          "output_type": "stream",
          "text": [
            " 81%|████████  | 2422/3000 [01:32<00:20, 28.55it/s]"
          ]
        },
        {
          "name": "stdout",
          "output_type": "stream",
          "text": [
            "2416\n"
          ]
        },
        {
          "name": "stderr",
          "output_type": "stream",
          "text": [
            "100%|██████████| 3000/3000 [01:53<00:00, 26.32it/s]\n"
          ]
        },
        {
          "data": {
            "text/plain": [
              "(2998, 30)"
            ]
          },
          "execution_count": 6,
          "metadata": {},
          "output_type": "execute_result"
        }
      ],
      "source": [
        "properties = ['dissimilarity', 'correlation', 'homogeneity', 'contrast', 'ASM', 'energy']\n",
        "fitur_glcm = []\n",
        "\n",
        "counter = 0\n",
        "for i in tqdm(range(len(images))):\n",
        "    try:\n",
        "      fitur_glcm.append(glcm_feature(images[i], props=properties))\n",
        "    except:\n",
        "      labels.pop(counter)\n",
        "      print(counter)\n",
        "      pass\n",
        "    counter += 1\n",
        "\n",
        "kolom = []\n",
        "sudut = ['0', '45', '90','135', '180']\n",
        "for prop in properties:\n",
        "    for x in sudut:\n",
        "        kolom.append(prop + \"_\" + x)\n",
        "\n",
        "glcm_df = pd.DataFrame(fitur_glcm, columns=kolom)\n",
        "pd.set_option('display.max_columns', None)\n",
        "glcm_df.shape"
      ]
    },
    {
      "cell_type": "code",
      "execution_count": 7,
      "metadata": {
        "colab": {
          "base_uri": "https://localhost:8080/"
        },
        "id": "8jw1VFyTP_wu",
        "outputId": "625c6fb1-2ba8-4aff-d495-ccadfb2d573f"
      },
      "outputs": [
        {
          "data": {
            "text/plain": [
              "array([0, 0, 0, ..., 1, 1, 1])"
            ]
          },
          "execution_count": 7,
          "metadata": {},
          "output_type": "execute_result"
        }
      ],
      "source": [
        "mapping = {\"happy\": 1, \"sad\": 0}\n",
        "label_converted = []\n",
        "\n",
        "counter = 0\n",
        "for label in labels:\n",
        "    converted_label = mapping[label]\n",
        "    label_converted.append(converted_label)\n",
        "    counter += 1\n",
        "\n",
        "label_numpy = np.array(label_converted)\n",
        "label_numpy"
      ]
    },
    {
      "cell_type": "code",
      "execution_count": 8,
      "metadata": {},
      "outputs": [
        {
          "data": {
            "text/plain": [
              "2998"
            ]
          },
          "execution_count": 8,
          "metadata": {},
          "output_type": "execute_result"
        }
      ],
      "source": [
        "len(label_numpy)"
      ]
    },
    {
      "cell_type": "code",
      "execution_count": 9,
      "metadata": {
        "colab": {
          "base_uri": "https://localhost:8080/"
        },
        "id": "bZ1VevUsQCUW",
        "outputId": "bccc0583-3ebd-49b2-c7bf-0aaa54bd0ed8"
      },
      "outputs": [
        {
          "data": {
            "text/plain": [
              "array([[8.00398936e+00, 1.22548665e+01, 1.00598404e+01, ...,\n",
              "        2.36554327e-02, 2.24460223e-02, 2.48187370e-02],\n",
              "       [1.47628546e+01, 2.13431417e+01, 1.48071809e+01, ...,\n",
              "        2.14077848e-02, 1.89483472e-02, 2.01526027e-02],\n",
              "       [1.23129433e+01, 1.52756904e+01, 8.52881206e+00, ...,\n",
              "        2.87352358e-02, 2.44076968e-02, 2.70026497e-02],\n",
              "       ...,\n",
              "       [1.67256206e+01, 1.90004527e+01, 1.20124113e+01, ...,\n",
              "        2.20364287e-02, 1.94183889e-02, 1.95513397e-02],\n",
              "       [1.16533688e+01, 1.38945224e+01, 9.76950355e+00, ...,\n",
              "        2.29984429e-02, 2.12042344e-02, 2.26866362e-02],\n",
              "       [1.93484043e+01, 2.62906292e+01, 1.88018617e+01, ...,\n",
              "        2.21165290e-02, 2.11437440e-02, 2.21874866e-02]])"
            ]
          },
          "execution_count": 9,
          "metadata": {},
          "output_type": "execute_result"
        }
      ],
      "source": [
        "fitur_numpy_array = glcm_df.to_numpy()\n",
        "fitur_numpy_array"
      ]
    },
    {
      "cell_type": "code",
      "execution_count": 10,
      "metadata": {
        "id": "Kfx5dbA3QEPe"
      },
      "outputs": [],
      "source": [
        "X_train, X_test, y_train, y_test = train_test_split(fitur_numpy_array, label_numpy, train_size=0.8, random_state=42)"
      ]
    },
    {
      "cell_type": "code",
      "execution_count": 11,
      "metadata": {
        "colab": {
          "base_uri": "https://localhost:8080/"
        },
        "id": "SK524RlHWZIL",
        "outputId": "8ec1a9b5-a458-4837-fc51-832e318a001e"
      },
      "outputs": [
        {
          "data": {
            "text/plain": [
              "(2398, 30)"
            ]
          },
          "execution_count": 11,
          "metadata": {},
          "output_type": "execute_result"
        }
      ],
      "source": [
        "X_train.shape"
      ]
    },
    {
      "cell_type": "code",
      "execution_count": 100,
      "metadata": {},
      "outputs": [],
      "source": [
        "import tensorflow as tf\n",
        "from tensorflow import keras\n",
        "# from tensorflow.keras import layers\n",
        "import keras_tuner as kt"
      ]
    },
    {
      "cell_type": "code",
      "execution_count": 98,
      "metadata": {
        "id": "5xiDeIPdQF9l"
      },
      "outputs": [],
      "source": [
        "ann = Sequential()\n",
        "ann.add(\n",
        "    Dense(units=30, activation=\"sigmoid\", input_shape=(X_train.shape[1],))\n",
        ")\n",
        "ann.add(\n",
        "    Dense(units=60, activation=\"sigmoid\")\n",
        ")\n",
        "ann.add(\n",
        "    Dense(units=256, activation=\"sigmoid\")\n",
        ")\n",
        "ann.add(\n",
        "    Dense(units=1, activation=\"sigmoid\")\n",
        ")"
      ]
    },
    {
      "cell_type": "code",
      "execution_count": 99,
      "metadata": {},
      "outputs": [
        {
          "name": "stdout",
          "output_type": "stream",
          "text": [
            "Model: \"sequential_1\"\n",
            "_________________________________________________________________\n",
            " Layer (type)                Output Shape              Param #   \n",
            "=================================================================\n",
            " dense_4 (Dense)             (None, 30)                930       \n",
            "                                                                 \n",
            " dense_5 (Dense)             (None, 60)                1860      \n",
            "                                                                 \n",
            " dense_6 (Dense)             (None, 256)               15616     \n",
            "                                                                 \n",
            " dense_7 (Dense)             (None, 1)                 257       \n",
            "                                                                 \n",
            "=================================================================\n",
            "Total params: 18,663\n",
            "Trainable params: 18,663\n",
            "Non-trainable params: 0\n",
            "_________________________________________________________________\n"
          ]
        }
      ],
      "source": [
        "ann.summary()"
      ]
    },
    {
      "cell_type": "code",
      "execution_count": 120,
      "metadata": {
        "id": "Q8-uqVluQQTZ"
      },
      "outputs": [],
      "source": [
        "ann.compile(optimizer =keras.optimizers.Adam(learning_rate=10e-2), loss = 'binary_crossentropy', metrics = ['accuracy'])"
      ]
    },
    {
      "cell_type": "code",
      "execution_count": 121,
      "metadata": {
        "colab": {
          "base_uri": "https://localhost:8080/"
        },
        "id": "Kyhwt2boQR6C",
        "outputId": "46c2e3f9-af6e-4967-d8d3-c2f095689412"
      },
      "outputs": [
        {
          "name": "stdout",
          "output_type": "stream",
          "text": [
            "Epoch 1/10\n",
            "240/240 - 1s - loss: 1.3238 - accuracy: 0.4854 - 793ms/epoch - 3ms/step\n",
            "Epoch 2/10\n",
            "240/240 - 0s - loss: 0.9591 - accuracy: 0.4996 - 191ms/epoch - 795us/step\n",
            "Epoch 3/10\n",
            "240/240 - 0s - loss: 1.1193 - accuracy: 0.4904 - 190ms/epoch - 790us/step\n",
            "Epoch 4/10\n",
            "240/240 - 0s - loss: 1.0624 - accuracy: 0.5113 - 190ms/epoch - 790us/step\n",
            "Epoch 5/10\n",
            "240/240 - 0s - loss: 0.9787 - accuracy: 0.4912 - 187ms/epoch - 780us/step\n",
            "Epoch 6/10\n",
            "240/240 - 0s - loss: 0.9458 - accuracy: 0.4912 - 186ms/epoch - 775us/step\n",
            "Epoch 7/10\n",
            "240/240 - 0s - loss: 0.9438 - accuracy: 0.5079 - 187ms/epoch - 779us/step\n",
            "Epoch 8/10\n",
            "240/240 - 0s - loss: 1.0346 - accuracy: 0.5013 - 184ms/epoch - 767us/step\n",
            "Epoch 9/10\n",
            "240/240 - 0s - loss: 1.1330 - accuracy: 0.5221 - 188ms/epoch - 785us/step\n",
            "Epoch 10/10\n",
            "240/240 - 0s - loss: 1.0226 - accuracy: 0.5079 - 187ms/epoch - 781us/step\n"
          ]
        },
        {
          "data": {
            "text/plain": [
              "<keras.callbacks.History at 0x1e1024b86a0>"
            ]
          },
          "execution_count": 121,
          "metadata": {},
          "output_type": "execute_result"
        }
      ],
      "source": [
        "ann.fit(X_train, y_train, epochs=10, batch_size=10, shuffle=True, verbose=2)"
      ]
    },
    {
      "cell_type": "code",
      "execution_count": 92,
      "metadata": {
        "colab": {
          "base_uri": "https://localhost:8080/"
        },
        "id": "WZe6V8icQTPF",
        "outputId": "b00d34cd-8a85-42d6-c859-3f89fb293cb1"
      },
      "outputs": [
        {
          "name": "stdout",
          "output_type": "stream",
          "text": [
            "19/19 [==============================] - 0s 826us/step - loss: 0.6944 - accuracy: 0.4900\n",
            "Model accuracy: 49.00\n"
          ]
        }
      ],
      "source": [
        "_, accuracy = ann.evaluate(X_test, y_test)\n",
        "print(\"Model accuracy: %.2f\"% (accuracy*100))"
      ]
    },
    {
      "cell_type": "code",
      "execution_count": 97,
      "metadata": {},
      "outputs": [
        {
          "data": {
            "text/plain": [
              "array([1.63506206e+01, 2.41077411e+01, 1.82859043e+01, 2.39284744e+01,\n",
              "       1.63506206e+01, 8.88646607e-01, 7.96902891e-01, 8.82278508e-01,\n",
              "       8.03617392e-01, 8.88646607e-01, 9.00877501e-02, 5.71529268e-02,\n",
              "       7.88082468e-02, 6.39650164e-02, 9.00877501e-02, 6.47005762e+02,\n",
              "       1.18329923e+03, 6.87742465e+02, 1.14285016e+03, 6.47005762e+02,\n",
              "       3.29892548e-04, 2.96740709e-04, 3.13682819e-04, 2.99917146e-04,\n",
              "       3.29892548e-04, 1.81629444e-02, 1.72261635e-02, 1.77110931e-02,\n",
              "       1.73181161e-02, 1.81629444e-02])"
            ]
          },
          "execution_count": 97,
          "metadata": {},
          "output_type": "execute_result"
        }
      ],
      "source": [
        "X_train[0]"
      ]
    },
    {
      "cell_type": "code",
      "execution_count": 93,
      "metadata": {},
      "outputs": [],
      "source": [
        "def build_model(hp):\n",
        "    ann = Sequential()\n",
        "    ann.add(\n",
        "        Dense(units=30, activation=\"linear\", input_shape=(X_train.shape[1],))\n",
        "    )\n",
        "    ann.add(\n",
        "        Dense(units=60, activation=\"linear\")\n",
        "    )\n",
        "    ann.add(\n",
        "        Dense(units=256, activation=\"linear\")\n",
        "    )\n",
        "    ann.add(\n",
        "        Dense(units=1, activation=\"sigmoid\")\n",
        "    )\n",
        "    ann.compile(optimizer='adam', loss='categorical_crossentropy', metrics=['accuracy'])\n",
        "    # ann.fit(X_train, y_train, epochs=20, batch_size=10)\n",
        "    return ann"
      ]
    },
    {
      "cell_type": "code",
      "execution_count": 94,
      "metadata": {},
      "outputs": [],
      "source": [
        "tuner = kt.RandomSearch(hypermodel=build_model,\n",
        "                     objective='val_accuracy',\n",
        "                     seed=42,\n",
        "                     overwrite=True,\n",
        "                     directory=PATH / 'tuning')"
      ]
    },
    {
      "cell_type": "code",
      "execution_count": 95,
      "metadata": {},
      "outputs": [
        {
          "name": "stdout",
          "output_type": "stream",
          "text": [
            "Trial 1 Complete [00h 00m 01s]\n",
            "val_accuracy: 0.4645833373069763\n",
            "\n",
            "Best val_accuracy So Far: 0.4645833373069763\n",
            "Total elapsed time: 00h 00m 01s\n",
            "INFO:tensorflow:Oracle triggered exit\n"
          ]
        }
      ],
      "source": [
        "tuner.search(x=X_train,\n",
        "             y=y_train,\n",
        "             validation_split=0.2,\n",
        "            #  callbacks=[keras.callbacks.EarlyStopping(monitor='val_loss', patience=5)], \n",
        "            #  epochs=30         \n",
        "            )"
      ]
    },
    {
      "cell_type": "code",
      "execution_count": 20,
      "metadata": {},
      "outputs": [
        {
          "ename": "IndexError",
          "evalue": "list index out of range",
          "output_type": "error",
          "traceback": [
            "\u001b[1;31m---------------------------------------------------------------------------\u001b[0m",
            "\u001b[1;31mIndexError\u001b[0m                                Traceback (most recent call last)",
            "\u001b[1;32m~\\AppData\\Local\\Temp/ipykernel_17504/2773913186.py\u001b[0m in \u001b[0;36m<module>\u001b[1;34m\u001b[0m\n\u001b[1;32m----> 1\u001b[1;33m \u001b[0mbest_hp\u001b[0m \u001b[1;33m=\u001b[0m \u001b[0mtuner\u001b[0m\u001b[1;33m.\u001b[0m\u001b[0mget_best_hyperparameters\u001b[0m\u001b[1;33m(\u001b[0m\u001b[1;33m)\u001b[0m\u001b[1;33m[\u001b[0m\u001b[1;36m0\u001b[0m\u001b[1;33m]\u001b[0m\u001b[1;33m\u001b[0m\u001b[1;33m\u001b[0m\u001b[0m\n\u001b[0m\u001b[0;32m      2\u001b[0m \u001b[0mfinal_model\u001b[0m \u001b[1;33m=\u001b[0m \u001b[0mtuner\u001b[0m\u001b[1;33m.\u001b[0m\u001b[0mhypermodel\u001b[0m\u001b[1;33m.\u001b[0m\u001b[0mbuild\u001b[0m\u001b[1;33m(\u001b[0m\u001b[0mbest_hp\u001b[0m\u001b[1;33m)\u001b[0m\u001b[1;33m\u001b[0m\u001b[1;33m\u001b[0m\u001b[0m\n\u001b[0;32m      3\u001b[0m \u001b[1;33m\u001b[0m\u001b[0m\n\u001b[0;32m      4\u001b[0m final_model_history = final_model.fit(x=X_train,\n\u001b[0;32m      5\u001b[0m                                       \u001b[0my\u001b[0m\u001b[1;33m=\u001b[0m\u001b[0my_train\u001b[0m\u001b[1;33m,\u001b[0m\u001b[1;33m\u001b[0m\u001b[1;33m\u001b[0m\u001b[0m\n",
            "\u001b[1;31mIndexError\u001b[0m: list index out of range"
          ]
        }
      ],
      "source": [
        "best_hp = tuner.get_best_hyperparameters()[0]\n",
        "final_model = tuner.hypermodel.build(best_hp)\n",
        "\n",
        "final_model_history = final_model.fit(x=X_train,\n",
        "                                      y=y_train,\n",
        "                                      validation_split=0.2,\n",
        "                                      callbacks=[keras.callbacks.EarlyStopping(monitor='val_accuracy', patience=5)],\n",
        "                                      epochs=50)"
      ]
    },
    {
      "cell_type": "code",
      "execution_count": null,
      "metadata": {},
      "outputs": [],
      "source": [
        "import matplotlib.pyplot as plt\n",
        "import seaborn as sns\n",
        "from skimage import io"
      ]
    },
    {
      "cell_type": "code",
      "execution_count": null,
      "metadata": {},
      "outputs": [
        {
          "data": {
            "text/plain": [
              "<matplotlib.image.AxesImage at 0x1eeddee7640>"
            ]
          },
          "execution_count": 22,
          "metadata": {},
          "output_type": "execute_result"
        },
        {
          "data": {
            "image/png": "[encoded data removed]",
            "text/plain": [
              "<Figure size 432x288 with 1 Axes>"
            ]
          },
          "metadata": {
            "needs_background": "light"
          },
          "output_type": "display_data"
        }
      ],
      "source": [
        "io.imshow(f'{TEST}/tes7.jpg')"
      ]
    },
    {
      "cell_type": "code",
      "execution_count": null,
      "metadata": {
        "colab": {
          "base_uri": "https://localhost:8080/"
        },
        "id": "pFxoMIhpQvFV",
        "outputId": "43470eb1-722a-4bd1-e0da-6cf5577b7f07"
      },
      "outputs": [
        {
          "name": "stdout",
          "output_type": "stream",
          "text": [
            "WARNING:tensorflow:Model was constructed with shape (None, None, 799, 30) for input KerasTensor(type_spec=TensorSpec(shape=(None, None, 799, 30), dtype=tf.float32, name='dense_input'), name='dense_input', description=\"created by layer 'dense_input'\"), but it was called on an input with incompatible shape (None, 30).\n",
            "1/1 [==============================] - 0s 70ms/step\n"
          ]
        }
      ],
      "source": [
        "#predict\n",
        "\n",
        "# subfolders = [\"happy\", \"sad\"]\n",
        "fiturtes = []  #glcm\n",
        "\n",
        "tes = cv2.imread(f\"{TEST}/tes7.jpg\", cv2.IMREAD_GRAYSCALE)\n",
        "fiturtes.append(glcm_feature(tes, props=properties))\n",
        "\n",
        "kolom = []\n",
        "sudut = ['0', '45', '90','135', '180']\n",
        "for prop in properties:\n",
        "    for x in sudut:\n",
        "        kolom.append(prop + \"_\" + x)\n",
        "\n",
        "tes_df = pd.DataFrame(fiturtes, columns=kolom)\n",
        "pd.set_option('display.max_columns', None)\n",
        "\n",
        "fitur_tes = tes_df.to_numpy()\n",
        "\n",
        "prediction = ann.predict(fitur_tes).flatten()"
      ]
    },
    {
      "cell_type": "code",
      "execution_count": null,
      "metadata": {},
      "outputs": [
        {
          "ename": "NameError",
          "evalue": "name 'predictionp' is not defined",
          "output_type": "error",
          "traceback": [
            "\u001b[1;31m---------------------------------------------------------------------------\u001b[0m",
            "\u001b[1;31mNameError\u001b[0m                                 Traceback (most recent call last)",
            "\u001b[1;32m~\\AppData\\Local\\Temp/ipykernel_15992/3488827980.py\u001b[0m in \u001b[0;36m<module>\u001b[1;34m\u001b[0m\n\u001b[1;32m----> 1\u001b[1;33m \u001b[0mpredictionp\u001b[0m\u001b[1;33m\u001b[0m\u001b[1;33m\u001b[0m\u001b[0m\n\u001b[0m",
            "\u001b[1;31mNameError\u001b[0m: name 'predictionp' is not defined"
          ]
        }
      ],
      "source": [
        "predictionp"
      ]
    },
    {
      "cell_type": "code",
      "execution_count": null,
      "metadata": {
        "colab": {
          "base_uri": "https://localhost:8080/"
        },
        "id": "HeEFxt_PbSVC",
        "outputId": "a8b62222-b2ec-47bc-821d-fa34d4d598ac"
      },
      "outputs": [
        {
          "data": {
            "text/plain": [
              "1"
            ]
          },
          "execution_count": 36,
          "metadata": {},
          "output_type": "execute_result"
        }
      ],
      "source": [
        "threshold = 0.5  # Set the threshold value\n",
        "\n",
        "def cocok_text(prediction):\n",
        "  # Assuming 'prediction' is the decimal prediction value\n",
        "  if prediction >= threshold:\n",
        "      binary_prediction = 1  # Set binary prediction to 1\n",
        "      print(\"Happy\")\n",
        "  else:\n",
        "      binary_prediction = 0  # Set binary prediction to 0\n",
        "      print(\"Sad\")\n",
        "\n",
        "def cocok(prediction):\n",
        "  # Assuming 'prediction' is the decimal prediction value\n",
        "  if prediction >= threshold:\n",
        "      return 1  # Set binary prediction to 1\n",
        "  else:\n",
        "      return 0  # Set binary prediction to 0\n",
        "\n",
        "cocok(prediction)"
      ]
    },
    {
      "cell_type": "code",
      "execution_count": null,
      "metadata": {
        "colab": {
          "base_uri": "https://localhost:8080/"
        },
        "id": "YETU5wZ6WBa6",
        "outputId": "100adf78-2ec6-46fb-a2ee-ec2262784ec8"
      },
      "outputs": [
        {
          "name": "stdout",
          "output_type": "stream",
          "text": [
            "7/7 [==============================] - 0s 667us/step\n",
            "0\n",
            "0\n",
            "1\n",
            "1\n",
            "0\n",
            "1\n",
            "1\n",
            "0\n",
            "1\n",
            "1\n",
            "1\n",
            "0\n",
            "1\n",
            "0\n",
            "0\n",
            "1\n",
            "1\n",
            "1\n",
            "1\n",
            "1\n",
            "1\n",
            "1\n",
            "1\n",
            "1\n",
            "1\n",
            "1\n",
            "1\n",
            "1\n",
            "0\n",
            "1\n",
            "1\n",
            "1\n",
            "1\n",
            "0\n",
            "1\n",
            "0\n",
            "0\n",
            "0\n",
            "1\n",
            "1\n",
            "1\n",
            "1\n",
            "1\n",
            "1\n",
            "1\n",
            "1\n",
            "1\n",
            "1\n",
            "1\n",
            "1\n",
            "1\n",
            "1\n",
            "1\n",
            "1\n",
            "0\n",
            "1\n",
            "0\n",
            "1\n",
            "1\n",
            "1\n",
            "1\n",
            "1\n",
            "1\n",
            "1\n",
            "0\n",
            "0\n",
            "1\n",
            "1\n",
            "1\n",
            "0\n",
            "1\n",
            "1\n",
            "1\n",
            "1\n",
            "1\n",
            "1\n",
            "1\n",
            "0\n",
            "0\n",
            "1\n",
            "0\n",
            "1\n",
            "1\n",
            "1\n",
            "0\n",
            "1\n",
            "1\n",
            "1\n",
            "1\n",
            "0\n",
            "1\n",
            "1\n",
            "1\n",
            "1\n",
            "1\n",
            "1\n",
            "1\n",
            "1\n",
            "1\n",
            "1\n",
            "1\n",
            "1\n",
            "1\n",
            "1\n",
            "1\n",
            "1\n",
            "0\n",
            "1\n",
            "0\n",
            "1\n",
            "1\n",
            "1\n",
            "1\n",
            "1\n",
            "1\n",
            "0\n",
            "1\n",
            "0\n",
            "1\n",
            "1\n",
            "1\n",
            "1\n",
            "0\n",
            "1\n",
            "1\n",
            "1\n",
            "0\n",
            "1\n",
            "0\n",
            "1\n",
            "1\n",
            "1\n",
            "1\n",
            "1\n",
            "0\n",
            "1\n",
            "1\n",
            "1\n",
            "1\n",
            "1\n",
            "0\n",
            "1\n",
            "1\n",
            "0\n",
            "1\n",
            "1\n",
            "0\n",
            "1\n",
            "1\n",
            "0\n",
            "1\n",
            "0\n",
            "1\n",
            "0\n",
            "1\n",
            "0\n",
            "1\n",
            "1\n",
            "1\n",
            "1\n",
            "1\n",
            "1\n",
            "1\n",
            "1\n",
            "1\n",
            "0\n",
            "1\n",
            "1\n",
            "0\n",
            "0\n",
            "0\n",
            "1\n",
            "1\n",
            "1\n",
            "1\n",
            "1\n",
            "1\n",
            "1\n",
            "1\n",
            "0\n",
            "0\n",
            "1\n",
            "1\n",
            "1\n",
            "0\n",
            "1\n",
            "1\n",
            "1\n",
            "0\n",
            "1\n",
            "1\n",
            "1\n",
            "1\n",
            "1\n",
            "1\n",
            "0\n",
            "1\n",
            "1\n"
          ]
        }
      ],
      "source": [
        "for x in ann.predict(X_test):\n",
        "  for y in x:\n",
        "    print(cocok(y))"
      ]
    },
    {
      "cell_type": "code",
      "execution_count": null,
      "metadata": {
        "colab": {
          "base_uri": "https://localhost:8080/"
        },
        "id": "T5nPitp7aJeB",
        "outputId": "d7cf3d7f-42ac-4fb6-efea-42ae73a09a03"
      },
      "outputs": [
        {
          "data": {
            "text/plain": [
              "array([0, 0, 1, 0, 0, 1, 0, 0, 0, 1, 0, 0, 0, 0, 1, 1, 1, 1, 0, 1, 0, 1,\n",
              "       1, 1, 1, 1, 1, 1, 0, 1, 1, 1, 1, 1, 1, 1, 0, 1, 1, 1, 1, 0, 0, 1,\n",
              "       0, 0, 1, 1, 1, 0, 0, 0, 1, 0, 0, 1, 1, 0, 0, 1, 0, 0, 1, 0, 0, 0,\n",
              "       1, 1, 1, 0, 0, 0, 1, 0, 0, 0, 1, 1, 0, 1, 0, 0, 0, 1, 0, 1, 1, 1,\n",
              "       0, 1, 0, 1, 0, 1, 1, 1, 0, 1, 0, 1, 1, 0, 1, 1, 1, 0, 1, 0, 0, 0,\n",
              "       1, 0, 1, 1, 1, 1, 0, 1, 1, 0, 0, 0, 0, 1, 0, 1, 1, 1, 1, 1, 1, 0,\n",
              "       1, 0, 0, 1, 0, 1, 1, 1, 0, 0, 0, 1, 0, 1, 1, 1, 0, 0, 1, 0, 0, 0,\n",
              "       0, 0, 1, 1, 0, 0, 1, 0, 1, 1, 1, 0, 0, 0, 0, 0, 1, 1, 1, 1, 1, 1,\n",
              "       1, 1, 1, 0, 0, 1, 1, 0, 1, 0, 1, 0, 0, 0, 0, 1, 1, 0, 1, 0, 1, 0])"
            ]
          },
          "execution_count": 21,
          "metadata": {},
          "output_type": "execute_result"
        }
      ],
      "source": [
        "y_test"
      ]
    },
    {
      "cell_type": "code",
      "execution_count": null,
      "metadata": {
        "colab": {
          "base_uri": "https://localhost:8080/"
        },
        "id": "4clu8qW_P_Jy",
        "outputId": "84873619-7a0c-4433-bd1a-1172a8568952"
      },
      "outputs": [
        {
          "name": "stdout",
          "output_type": "stream",
          "text": [
            "Keras weights file (<HDF5 file \"variables.h5\" (mode r+)>) saving:\n",
            "...layers\\dense\n",
            "......vars\n",
            ".........0\n"
          ]
        },
        {
          "name": "stdout",
          "output_type": "stream",
          "text": [
            ".........1\n",
            "...layers\\dense_1\n",
            "......vars\n",
            ".........0\n",
            ".........1\n",
            "...layers\\dense_2\n",
            "......vars\n",
            ".........0\n",
            ".........1\n",
            "...layers\\dense_3\n",
            "......vars\n",
            ".........0\n",
            ".........1\n",
            "...metrics\\mean\n",
            "......vars\n",
            ".........0\n",
            ".........1\n",
            "...metrics\\mean_metric_wrapper\n",
            "......vars\n",
            ".........0\n",
            ".........1\n",
            "...optimizer\n",
            "......vars\n",
            ".........0\n",
            ".........1\n",
            ".........10\n",
            ".........11\n",
            ".........12\n",
            ".........13\n",
            ".........14\n",
            ".........15\n",
            ".........16\n",
            ".........2\n",
            ".........3\n",
            ".........4\n",
            ".........5\n",
            ".........6\n",
            ".........7\n",
            ".........8\n",
            ".........9\n",
            "...vars\n",
            "Keras model archive saving:\n",
            "File Name                                             Modified             Size\n",
            "config.json                                    2023-07-03 14:17:20         2288\n",
            "metadata.json                                  2023-07-03 14:17:20           64\n",
            "variables.h5                                   2023-07-03 14:17:20       251312\n"
          ]
        },
        {
          "data": {
            "text/plain": [
              "['model_rangga.joblib']"
            ]
          },
          "execution_count": 22,
          "metadata": {},
          "output_type": "execute_result"
        }
      ],
      "source": [
        "import joblib\n",
        "\n",
        "joblib.dump(ann ,'model_rangga.joblib')"
      ]
    },
    {
      "cell_type": "markdown",
      "metadata": {
        "id": "db3TIX9CPppI"
      },
      "source": []
    },
    {
      "cell_type": "code",
      "execution_count": null,
      "metadata": {
        "id": "7vUAiNaRTkGk"
      },
      "outputs": [
        {
          "name": "stdout",
          "output_type": "stream",
          "text": [
            "Keras weights file (<HDF5 file \"variables.h5\" (mode r+)>) saving:\n",
            "...layers\\dense\n",
            "......vars\n",
            ".........0\n",
            ".........1\n",
            "...layers\\dense_1\n",
            "......vars\n",
            ".........0\n",
            ".........1\n",
            "...layers\\dense_2\n",
            "......vars\n",
            ".........0\n",
            ".........1\n",
            "...layers\\dense_3\n",
            "......vars\n",
            ".........0\n",
            ".........1\n",
            "...metrics\\mean\n",
            "......vars\n",
            ".........0\n",
            ".........1\n",
            "...metrics\\mean_metric_wrapper\n",
            "......vars\n",
            ".........0\n",
            ".........1\n",
            "...optimizer\n",
            "......vars\n",
            ".........0\n",
            ".........1\n",
            ".........10\n",
            ".........11\n",
            ".........12\n",
            ".........13\n",
            ".........14\n",
            ".........15\n",
            ".........16\n",
            ".........2\n",
            ".........3\n",
            ".........4\n",
            ".........5\n",
            ".........6\n",
            ".........7\n",
            ".........8\n",
            ".........9\n",
            "...vars\n",
            "Keras model archive saving:\n",
            "File Name                                             Modified             Size\n",
            "config.json                                    2023-07-03 14:17:20         2288\n",
            "metadata.json                                  2023-07-03 14:17:20           64\n",
            "variables.h5                                   2023-07-03 14:17:20       251312\n"
          ]
        }
      ],
      "source": [
        "import pickle\n",
        "\n",
        "pickle.dumps(ann, 'model_rangga_new.pkl')"
      ]
    }
  ],
  "metadata": {
    "colab": {
      "provenance": []
    },
    "kernelspec": {
      "display_name": "Python 3",
      "name": "python3"
    },
    "language_info": {
      "codemirror_mode": {
        "name": "ipython",
        "version": 3
      },
      "file_extension": ".py",
      "mimetype": "text/x-python",
      "name": "python",
      "nbconvert_exporter": "python",
      "pygments_lexer": "ipython3",
      "version": "3.10.7"
    }
  },
  "nbformat": 4,
  "nbformat_minor": 0
}
